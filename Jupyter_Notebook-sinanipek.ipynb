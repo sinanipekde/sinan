{
 "cells": [
  {
   "cell_type": "markdown",
   "metadata": {},
   "source": [
    "<center>\n",
    "    <img src=\"https://cf-courses-data.s3.us.cloud-object-storage.appdomain.cloud/IBMDeveloperSkillsNetwork-DS0105EN-SkillsNetwork/labs/Module2/images/SN_web_lightmode.png\" width=\"300\" alt=\"cognitiveclass.ai logo\">\n",
    "</center>\n"
   ]
  },
  {
   "cell_type": "markdown",
   "metadata": {},
   "source": [
    "#### Add your code below following the instructions given in the course\n"
   ]
  },
  {
   "cell_type": "markdown",
   "metadata": {},
   "source": [
    "(\"Data Science Jupyterlite Notebook\")"
   ]
  },
  {
   "cell_type": "markdown",
   "metadata": {},
   "source": [
    "(\"In this notebook, Data Science Jupyterlite Notebook are summarized\")"
   ]
  },
  {
   "cell_type": "markdown",
   "metadata": {},
   "source": [
    "(\"Some of the popular languages that Data Scientists use are:\"\n",
    "    \"1. Python\\n\"\n",
    "    \"2. R\"\n",
    "    \"3. SQL\"\n",
    "    \"4. Julia\"\n",
    "    \"5. Java\")"
   ]
  },
  {
   "cell_type": "markdown",
   "metadata": {},
   "source": [
    "(\"Some of the commonly used libraries used by Data Scientists include:\"\n",
    "    \"1. Pandas\\n\"\n",
    "    \"2. NumPy\\n\"\n",
    "    \"3. Matplotlib\\n\")"
   ]
  },
  {
   "cell_type": "markdown",
   "metadata": {},
   "source": [
    " (\"| Data Science Tools |\\n\"\n",
    "    \"|---------------------|\\n\"\n",
    "    \"| Jupyter Notebook   |\\n\"\n",
    "    \"| RStudio            |\\n\"\n",
    "    \"| Apache Zeppelin    |\")\n"
   ]
  },
  {
   "cell_type": "markdown",
   "metadata": {},
   "source": [
    "(\"### Below are a few examples of evaluating arithmetic expressions in Python.\")"
   ]
  },
  {
   "cell_type": "code",
   "execution_count": null,
   "metadata": {},
   "outputs": [],
   "source": [
    "(\"# This is a simple arithmetic expression to multiply then add integers\\n\"\n",
    "    \"(3 * 4) + 5\")\n"
   ]
  },
  {
   "cell_type": "code",
   "execution_count": null,
   "metadata": {},
   "outputs": [],
   "source": [
    " (\"# This will convert 150 minutes to hours by dividing by 60\\n\"\n",
    "    \"150 / 60\"))\n"
   ]
  },
  {
   "cell_type": "markdown",
   "metadata": {},
   "source": [
    "\n",
    "   ( \"**Objectives:**\\n\\n\"\n",
    "    \"- List popular languages for Data Science\"\n",
    "    \"- List commonly used libraries for Data Science\"\n",
    "    \"- Introduce development tools for Data Science\"\n",
    "    \"- Perform basic arithmetic operations in Python\"\n",
    "    \"- Demonstrate unit conversions in Python\")\n"
   ]
  },
  {
   "cell_type": "markdown",
   "metadata": {},
   "source": [
    "(\"##Sinan Ipek\")"
   ]
  }
 ],
 "metadata": {
  "kernelspec": {
   "display_name": "Python 3 (ipykernel)",
   "language": "python",
   "name": "python3"
  },
  "language_info": {
   "codemirror_mode": {
    "name": "ipython",
    "version": 3
   },
   "file_extension": ".py",
   "mimetype": "text/x-python",
   "name": "python",
   "nbconvert_exporter": "python",
   "pygments_lexer": "ipython3",
   "version": "3.11.9"
  }
 },
 "nbformat": 4,
 "nbformat_minor": 4
}
